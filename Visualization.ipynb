{
 "cells": [
  {
   "cell_type": "code",
   "execution_count": 16,
   "metadata": {},
   "outputs": [],
   "source": [
    "import pandas as pd"
   ]
  },
  {
   "cell_type": "code",
   "execution_count": 17,
   "metadata": {},
   "outputs": [],
   "source": [
    "%run main.py"
   ]
  },
  {
   "cell_type": "code",
   "execution_count": 91,
   "metadata": {},
   "outputs": [],
   "source": [
    "df = pd.read_csv('stonks.csv')\n",
    "df.to_d = pd.to_datetime(df.to_d,format='%d-%m-%y')\n",
    "df['previous_closing'] = df.groupby('stock').shift(1)['current']"
   ]
  },
  {
   "cell_type": "code",
   "execution_count": 92,
   "metadata": {},
   "outputs": [],
   "source": [
    "pct = lambda num,den : round(num/den - 1,2)"
   ]
  },
  {
   "cell_type": "code",
   "execution_count": 107,
   "metadata": {},
   "outputs": [],
   "source": [
    "df['dailygainpct']= pct(df['current'],df['previous_closing'])"
   ]
  },
  {
   "cell_type": "code",
   "execution_count": 108,
   "metadata": {},
   "outputs": [
    {
     "data": {
      "text/html": [
       "<div>\n",
       "<style scoped>\n",
       "    .dataframe tbody tr th:only-of-type {\n",
       "        vertical-align: middle;\n",
       "    }\n",
       "\n",
       "    .dataframe tbody tr th {\n",
       "        vertical-align: top;\n",
       "    }\n",
       "\n",
       "    .dataframe thead th {\n",
       "        text-align: right;\n",
       "    }\n",
       "</style>\n",
       "<table border=\"1\" class=\"dataframe\">\n",
       "  <thead>\n",
       "    <tr style=\"text-align: right;\">\n",
       "      <th></th>\n",
       "      <th>to_d</th>\n",
       "      <th>stock</th>\n",
       "      <th>current</th>\n",
       "      <th>forecast</th>\n",
       "      <th>buying</th>\n",
       "      <th>quant</th>\n",
       "      <th>g_act_abs</th>\n",
       "      <th>g_act_pct</th>\n",
       "      <th>g_exp_abs</th>\n",
       "      <th>g_exp_pct</th>\n",
       "      <th>previous_closing</th>\n",
       "      <th>dailygainpct</th>\n",
       "    </tr>\n",
       "  </thead>\n",
       "  <tbody>\n",
       "    <tr>\n",
       "      <th>0</th>\n",
       "      <td>2021-01-02</td>\n",
       "      <td>AAPL</td>\n",
       "      <td>132</td>\n",
       "      <td>132</td>\n",
       "      <td>132.12</td>\n",
       "      <td>3</td>\n",
       "      <td>0</td>\n",
       "      <td>-0.00</td>\n",
       "      <td>0</td>\n",
       "      <td>0.00</td>\n",
       "      <td>NaN</td>\n",
       "      <td>NaN</td>\n",
       "    </tr>\n",
       "    <tr>\n",
       "      <th>1</th>\n",
       "      <td>2021-01-02</td>\n",
       "      <td>ADS</td>\n",
       "      <td>74</td>\n",
       "      <td>71</td>\n",
       "      <td>77.23</td>\n",
       "      <td>6</td>\n",
       "      <td>-18</td>\n",
       "      <td>-0.04</td>\n",
       "      <td>-18</td>\n",
       "      <td>-0.04</td>\n",
       "      <td>NaN</td>\n",
       "      <td>NaN</td>\n",
       "    </tr>\n",
       "    <tr>\n",
       "      <th>2</th>\n",
       "      <td>2021-01-02</td>\n",
       "      <td>DBX</td>\n",
       "      <td>22</td>\n",
       "      <td>23</td>\n",
       "      <td>21.48</td>\n",
       "      <td>22</td>\n",
       "      <td>0</td>\n",
       "      <td>0.02</td>\n",
       "      <td>22</td>\n",
       "      <td>0.05</td>\n",
       "      <td>NaN</td>\n",
       "      <td>NaN</td>\n",
       "    </tr>\n",
       "    <tr>\n",
       "      <th>3</th>\n",
       "      <td>2021-01-02</td>\n",
       "      <td>SPWR</td>\n",
       "      <td>25</td>\n",
       "      <td>27</td>\n",
       "      <td>31.78</td>\n",
       "      <td>15</td>\n",
       "      <td>-90</td>\n",
       "      <td>-0.21</td>\n",
       "      <td>30</td>\n",
       "      <td>0.08</td>\n",
       "      <td>NaN</td>\n",
       "      <td>NaN</td>\n",
       "    </tr>\n",
       "    <tr>\n",
       "      <th>4</th>\n",
       "      <td>2021-01-02</td>\n",
       "      <td>NIO</td>\n",
       "      <td>48</td>\n",
       "      <td>47</td>\n",
       "      <td>57.21</td>\n",
       "      <td>15</td>\n",
       "      <td>-135</td>\n",
       "      <td>-0.16</td>\n",
       "      <td>-15</td>\n",
       "      <td>-0.02</td>\n",
       "      <td>NaN</td>\n",
       "      <td>NaN</td>\n",
       "    </tr>\n",
       "  </tbody>\n",
       "</table>\n",
       "</div>"
      ],
      "text/plain": [
       "        to_d stock  current  forecast  buying  quant  g_act_abs  g_act_pct  \\\n",
       "0 2021-01-02  AAPL      132       132  132.12      3          0      -0.00   \n",
       "1 2021-01-02   ADS       74        71   77.23      6        -18      -0.04   \n",
       "2 2021-01-02   DBX       22        23   21.48     22          0       0.02   \n",
       "3 2021-01-02  SPWR       25        27   31.78     15        -90      -0.21   \n",
       "4 2021-01-02   NIO       48        47   57.21     15       -135      -0.16   \n",
       "\n",
       "   g_exp_abs  g_exp_pct  previous_closing  dailygainpct  \n",
       "0          0       0.00               NaN           NaN  \n",
       "1        -18      -0.04               NaN           NaN  \n",
       "2         22       0.05               NaN           NaN  \n",
       "3         30       0.08               NaN           NaN  \n",
       "4        -15      -0.02               NaN           NaN  "
      ]
     },
     "execution_count": 108,
     "metadata": {},
     "output_type": "execute_result"
    }
   ],
   "source": [
    "df.head()"
   ]
  },
  {
   "cell_type": "code",
   "execution_count": 109,
   "metadata": {},
   "outputs": [
    {
     "data": {
      "image/png": "[encoded data removed]",
      "text/plain": [
       "<Figure size 432x288 with 1 Axes>"
      ]
     },
     "metadata": {
      "needs_background": "light"
     },
     "output_type": "display_data"
    }
   ],
   "source": [
    "df[df['to_d'] == df.to_d.max()].sort_values(by = 'g_act_pct').plot.bar(x='stock', y='g_act_pct');"
   ]
  },
  {
   "cell_type": "code",
   "execution_count": 110,
   "metadata": {},
   "outputs": [
    {
     "data": {
      "image/png": "[encoded data removed]",
      "text/plain": [
       "<Figure size 432x288 with 1 Axes>"
      ]
     },
     "metadata": {
      "needs_background": "light"
     },
     "output_type": "display_data"
    }
   ],
   "source": [
    "df[df['to_d'] == df.to_d.max()].sort_values(by = 'g_exp_pct').plot.bar(x='stock', y='g_exp_pct');"
   ]
  },
  {
   "cell_type": "code",
   "execution_count": 111,
   "metadata": {},
   "outputs": [
    {
     "data": {
      "text/plain": [
       "<AxesSubplot:xlabel='to_d'>"
      ]
     },
     "execution_count": 111,
     "metadata": {},
     "output_type": "execute_result"
    },
    {
     "data": {
      "image/png": "[encoded data removed]",
      "text/plain": [
       "<Figure size 432x288 with 1 Axes>"
      ]
     },
     "metadata": {
      "needs_background": "light"
     },
     "output_type": "display_data"
    }
   ],
   "source": [
    "df.groupby('to_d').sum().reset_index().plot.line(x = 'to_d' , y =['g_act_abs'])"
   ]
  },
  {
   "cell_type": "code",
   "execution_count": 154,
   "metadata": {},
   "outputs": [
    {
     "data": {
      "text/html": [
       "<div>\n",
       "<style scoped>\n",
       "    .dataframe tbody tr th:only-of-type {\n",
       "        vertical-align: middle;\n",
       "    }\n",
       "\n",
       "    .dataframe tbody tr th {\n",
       "        vertical-align: top;\n",
       "    }\n",
       "\n",
       "    .dataframe thead th {\n",
       "        text-align: right;\n",
       "    }\n",
       "</style>\n",
       "<table border=\"1\" class=\"dataframe\">\n",
       "  <thead>\n",
       "    <tr style=\"text-align: right;\">\n",
       "      <th></th>\n",
       "      <th>to_d</th>\n",
       "      <th>stock</th>\n",
       "      <th>current</th>\n",
       "      <th>forecast</th>\n",
       "      <th>buying</th>\n",
       "      <th>quant</th>\n",
       "      <th>g_act_abs</th>\n",
       "      <th>g_act_pct</th>\n",
       "      <th>g_exp_abs</th>\n",
       "      <th>g_exp_pct</th>\n",
       "      <th>previous_closing</th>\n",
       "      <th>dailygainpct</th>\n",
       "    </tr>\n",
       "  </thead>\n",
       "  <tbody>\n",
       "    <tr>\n",
       "      <th>358</th>\n",
       "      <td>2021-01-30</td>\n",
       "      <td>AAPL</td>\n",
       "      <td>131</td>\n",
       "      <td>138</td>\n",
       "      <td>137.078</td>\n",
       "      <td>8</td>\n",
       "      <td>-48</td>\n",
       "      <td>-0.04</td>\n",
       "      <td>56</td>\n",
       "      <td>0.05</td>\n",
       "      <td>131.0</td>\n",
       "      <td>0.0</td>\n",
       "    </tr>\n",
       "    <tr>\n",
       "      <th>359</th>\n",
       "      <td>2021-01-30</td>\n",
       "      <td>DBX</td>\n",
       "      <td>22</td>\n",
       "      <td>22</td>\n",
       "      <td>21.490</td>\n",
       "      <td>24</td>\n",
       "      <td>0</td>\n",
       "      <td>0.02</td>\n",
       "      <td>0</td>\n",
       "      <td>0.00</td>\n",
       "      <td>22.0</td>\n",
       "      <td>0.0</td>\n",
       "    </tr>\n",
       "    <tr>\n",
       "      <th>360</th>\n",
       "      <td>2021-01-30</td>\n",
       "      <td>SPWR</td>\n",
       "      <td>54</td>\n",
       "      <td>48</td>\n",
       "      <td>33.364</td>\n",
       "      <td>17</td>\n",
       "      <td>340</td>\n",
       "      <td>0.62</td>\n",
       "      <td>-102</td>\n",
       "      <td>-0.11</td>\n",
       "      <td>54.0</td>\n",
       "      <td>0.0</td>\n",
       "    </tr>\n",
       "    <tr>\n",
       "      <th>361</th>\n",
       "      <td>2021-01-30</td>\n",
       "      <td>PYPL</td>\n",
       "      <td>234</td>\n",
       "      <td>241</td>\n",
       "      <td>238.630</td>\n",
       "      <td>3</td>\n",
       "      <td>-12</td>\n",
       "      <td>-0.02</td>\n",
       "      <td>21</td>\n",
       "      <td>0.03</td>\n",
       "      <td>234.0</td>\n",
       "      <td>0.0</td>\n",
       "    </tr>\n",
       "    <tr>\n",
       "      <th>362</th>\n",
       "      <td>2021-01-30</td>\n",
       "      <td>SQ</td>\n",
       "      <td>215</td>\n",
       "      <td>216</td>\n",
       "      <td>217.630</td>\n",
       "      <td>2</td>\n",
       "      <td>-4</td>\n",
       "      <td>-0.01</td>\n",
       "      <td>2</td>\n",
       "      <td>0.00</td>\n",
       "      <td>215.0</td>\n",
       "      <td>0.0</td>\n",
       "    </tr>\n",
       "    <tr>\n",
       "      <th>363</th>\n",
       "      <td>2021-01-30</td>\n",
       "      <td>NIO</td>\n",
       "      <td>57</td>\n",
       "      <td>58</td>\n",
       "      <td>57.210</td>\n",
       "      <td>15</td>\n",
       "      <td>0</td>\n",
       "      <td>-0.00</td>\n",
       "      <td>15</td>\n",
       "      <td>0.02</td>\n",
       "      <td>57.0</td>\n",
       "      <td>0.0</td>\n",
       "    </tr>\n",
       "    <tr>\n",
       "      <th>364</th>\n",
       "      <td>2021-01-30</td>\n",
       "      <td>SONO</td>\n",
       "      <td>26</td>\n",
       "      <td>27</td>\n",
       "      <td>21.199</td>\n",
       "      <td>25</td>\n",
       "      <td>100</td>\n",
       "      <td>0.23</td>\n",
       "      <td>25</td>\n",
       "      <td>0.04</td>\n",
       "      <td>26.0</td>\n",
       "      <td>0.0</td>\n",
       "    </tr>\n",
       "    <tr>\n",
       "      <th>365</th>\n",
       "      <td>2021-01-30</td>\n",
       "      <td>RVLV</td>\n",
       "      <td>37</td>\n",
       "      <td>36</td>\n",
       "      <td>29.600</td>\n",
       "      <td>15</td>\n",
       "      <td>105</td>\n",
       "      <td>0.25</td>\n",
       "      <td>-15</td>\n",
       "      <td>-0.03</td>\n",
       "      <td>37.0</td>\n",
       "      <td>0.0</td>\n",
       "    </tr>\n",
       "    <tr>\n",
       "      <th>366</th>\n",
       "      <td>2021-01-30</td>\n",
       "      <td>MRNA</td>\n",
       "      <td>173</td>\n",
       "      <td>147</td>\n",
       "      <td>146.580</td>\n",
       "      <td>3</td>\n",
       "      <td>78</td>\n",
       "      <td>0.18</td>\n",
       "      <td>-78</td>\n",
       "      <td>-0.15</td>\n",
       "      <td>173.0</td>\n",
       "      <td>0.0</td>\n",
       "    </tr>\n",
       "    <tr>\n",
       "      <th>367</th>\n",
       "      <td>2021-01-30</td>\n",
       "      <td>BNTX</td>\n",
       "      <td>116</td>\n",
       "      <td>108</td>\n",
       "      <td>110.400</td>\n",
       "      <td>5</td>\n",
       "      <td>25</td>\n",
       "      <td>0.05</td>\n",
       "      <td>-40</td>\n",
       "      <td>-0.07</td>\n",
       "      <td>116.0</td>\n",
       "      <td>0.0</td>\n",
       "    </tr>\n",
       "    <tr>\n",
       "      <th>368</th>\n",
       "      <td>2021-01-30</td>\n",
       "      <td>NET</td>\n",
       "      <td>76</td>\n",
       "      <td>79</td>\n",
       "      <td>81.020</td>\n",
       "      <td>7</td>\n",
       "      <td>-35</td>\n",
       "      <td>-0.06</td>\n",
       "      <td>21</td>\n",
       "      <td>0.04</td>\n",
       "      <td>76.0</td>\n",
       "      <td>0.0</td>\n",
       "    </tr>\n",
       "    <tr>\n",
       "      <th>369</th>\n",
       "      <td>2021-01-30</td>\n",
       "      <td>PINS</td>\n",
       "      <td>68</td>\n",
       "      <td>70</td>\n",
       "      <td>67.480</td>\n",
       "      <td>10</td>\n",
       "      <td>0</td>\n",
       "      <td>0.01</td>\n",
       "      <td>20</td>\n",
       "      <td>0.03</td>\n",
       "      <td>68.0</td>\n",
       "      <td>0.0</td>\n",
       "    </tr>\n",
       "    <tr>\n",
       "      <th>370</th>\n",
       "      <td>2021-01-30</td>\n",
       "      <td>ABNB</td>\n",
       "      <td>183</td>\n",
       "      <td>183</td>\n",
       "      <td>155.128</td>\n",
       "      <td>16</td>\n",
       "      <td>432</td>\n",
       "      <td>0.18</td>\n",
       "      <td>0</td>\n",
       "      <td>0.00</td>\n",
       "      <td>183.0</td>\n",
       "      <td>0.0</td>\n",
       "    </tr>\n",
       "  </tbody>\n",
       "</table>\n",
       "</div>"
      ],
      "text/plain": [
       "          to_d stock  current  forecast   buying  quant  g_act_abs  g_act_pct  \\\n",
       "358 2021-01-30  AAPL      131       138  137.078      8        -48      -0.04   \n",
       "359 2021-01-30   DBX       22        22   21.490     24          0       0.02   \n",
       "360 2021-01-30  SPWR       54        48   33.364     17        340       0.62   \n",
       "361 2021-01-30  PYPL      234       241  238.630      3        -12      -0.02   \n",
       "362 2021-01-30    SQ      215       216  217.630      2         -4      -0.01   \n",
       "363 2021-01-30   NIO       57        58   57.210     15          0      -0.00   \n",
       "364 2021-01-30  SONO       26        27   21.199     25        100       0.23   \n",
       "365 2021-01-30  RVLV       37        36   29.600     15        105       0.25   \n",
       "366 2021-01-30  MRNA      173       147  146.580      3         78       0.18   \n",
       "367 2021-01-30  BNTX      116       108  110.400      5         25       0.05   \n",
       "368 2021-01-30   NET       76        79   81.020      7        -35      -0.06   \n",
       "369 2021-01-30  PINS       68        70   67.480     10          0       0.01   \n",
       "370 2021-01-30  ABNB      183       183  155.128     16        432       0.18   \n",
       "\n",
       "     g_exp_abs  g_exp_pct  previous_closing  dailygainpct  \n",
       "358         56       0.05             131.0           0.0  \n",
       "359          0       0.00              22.0           0.0  \n",
       "360       -102      -0.11              54.0           0.0  \n",
       "361         21       0.03             234.0           0.0  \n",
       "362          2       0.00             215.0           0.0  \n",
       "363         15       0.02              57.0           0.0  \n",
       "364         25       0.04              26.0           0.0  \n",
       "365        -15      -0.03              37.0           0.0  \n",
       "366        -78      -0.15             173.0           0.0  \n",
       "367        -40      -0.07             116.0           0.0  \n",
       "368         21       0.04              76.0           0.0  \n",
       "369         20       0.03              68.0           0.0  \n",
       "370          0       0.00             183.0           0.0  "
      ]
     },
     "execution_count": 154,
     "metadata": {},
     "output_type": "execute_result"
    }
   ],
   "source": [
    "df[df['to_d'] == df.to_d.max()]\n"
   ]
  },
  {
   "cell_type": "code",
   "execution_count": 171,
   "metadata": {},
   "outputs": [
    {
     "data": {
      "image/png": "[encoded data removed]",
      "text/plain": [
       "<Figure size 432x288 with 1 Axes>"
      ]
     },
     "metadata": {
      "needs_background": "light"
     },
     "output_type": "display_data"
    }
   ],
   "source": [
    "(df[df['stock']=='AAPL']\n",
    " .plot(x = 'to_d' , y =['buying','forecast'])\n",
    ");"
   ]
  },
  {
   "cell_type": "code",
   "execution_count": 155,
   "metadata": {},
   "outputs": [],
   "source": [
    "dfII = df[df['dailygainpct']!=0]"
   ]
  },
  {
   "cell_type": "code",
   "execution_count": 156,
   "metadata": {},
   "outputs": [
    {
     "data": {
      "text/plain": [
       "<AxesSubplot:xlabel='to_d'>"
      ]
     },
     "execution_count": 156,
     "metadata": {},
     "output_type": "execute_result"
    },
    {
     "data": {
      "image/png": "[encoded data removed]",
      "text/plain": [
       "<Figure size 432x288 with 1 Axes>"
      ]
     },
     "metadata": {
      "needs_background": "light"
     },
     "output_type": "display_data"
    }
   ],
   "source": [
    "dfII[dfII['stock']=='SPWR'].plot.bar(x ='to_d' , y = ['g_exp_pct','dailygainpct'] )"
   ]
  },
  {
   "cell_type": "code",
   "execution_count": 157,
   "metadata": {},
   "outputs": [
    {
     "data": {
      "image/png": "[encoded data removed]",
      "text/plain": [
       "<Figure size 432x288 with 1 Axes>"
      ]
     },
     "metadata": {
      "needs_background": "light"
     },
     "output_type": "display_data"
    }
   ],
   "source": [
    "(dfII.plot.scatter(x = 'dailygainpct' , y ='g_exp_pct'));"
   ]
  },
  {
   "cell_type": "code",
   "execution_count": 160,
   "metadata": {},
   "outputs": [],
   "source": [
    "increase_increase = int(100*dfII[(dfII['dailygainpct'] >0)& (dfII['g_exp_pct'] >0)].shape[0] / dfII.shape[0])\n",
    "decrease_decrease = int(100*dfII[(dfII['dailygainpct'] < 0)& (dfII['g_exp_pct'] < 0)].shape[0]/ dfII.shape[0])\n",
    "increase_decrease = int(100*dfII[(dfII['dailygainpct'] >0)& (dfII['g_exp_pct'] <0)].shape[0] / dfII.shape[0])\n",
    "decrease_increase = int(100*dfII[(dfII['dailygainpct'] <0)& (dfII['g_exp_pct'] >0)].shape[0] / dfII.shape[0])\n"
   ]
  },
  {
   "cell_type": "code",
   "execution_count": 161,
   "metadata": {},
   "outputs": [
    {
     "name": "stdout",
     "output_type": "stream",
     "text": [
      "A I - D\n",
      "F\n",
      "I 8 - 23\n",
      "D 39 - 9\n"
     ]
    }
   ],
   "source": [
    "print('A','I','-' ,'D')\n",
    "print('F')\n",
    "print('I',increase_increase,'-' ,decrease_increase)\n",
    "print('D',increase_decrease,'-' ,decrease_decrease)\n"
   ]
  },
  {
   "cell_type": "code",
   "execution_count": 169,
   "metadata": {},
   "outputs": [
    {
     "data": {
      "image/png": "[encoded data removed]",
      "text/plain": [
       "<Figure size 432x288 with 1 Axes>"
      ]
     },
     "metadata": {
      "needs_background": "light"
     },
     "output_type": "display_data"
    }
   ],
   "source": [
    "(dfII.plot.scatter(x = 'current' , y ='forecast'));"
   ]
  },
  {
   "cell_type": "code",
   "execution_count": 170,
   "metadata": {},
   "outputs": [
    {
     "data": {
      "image/png": "[encoded data removed]",
      "text/plain": [
       "<Figure size 432x288 with 1 Axes>"
      ]
     },
     "metadata": {
      "needs_background": "light"
     },
     "output_type": "display_data"
    }
   ],
   "source": [
    "(dfII[['stock','dailygainpct']].boxplot(by = 'stock' ));"
   ]
  },
  {
   "cell_type": "code",
   "execution_count": 179,
   "metadata": {},
   "outputs": [
    {
     "data": {
      "text/plain": [
       "<AxesSubplot:>"
      ]
     },
     "execution_count": 179,
     "metadata": {},
     "output_type": "execute_result"
    },
    {
     "data": {
      "image/png": "[encoded data removed]",
      "text/plain": [
       "<Figure size 432x288 with 1 Axes>"
      ]
     },
     "metadata": {
      "needs_background": "light"
     },
     "output_type": "display_data"
    }
   ],
   "source": [
    "dfII['dailygainpct'].hist(bins=100)"
   ]
  },
  {
   "cell_type": "code",
   "execution_count": 181,
   "metadata": {},
   "outputs": [
    {
     "data": {
      "text/plain": [
       "count    181.000000\n",
       "mean       0.013978\n",
       "std        0.050932\n",
       "min       -0.110000\n",
       "25%       -0.030000\n",
       "50%        0.020000\n",
       "75%        0.050000\n",
       "max        0.210000\n",
       "Name: dailygainpct, dtype: float64"
      ]
     },
     "execution_count": 181,
     "metadata": {},
     "output_type": "execute_result"
    }
   ],
   "source": [
    "dfII['dailygainpct'].describe()"
   ]
  },
  {
   "cell_type": "code",
   "execution_count": 29,
   "metadata": {},
   "outputs": [
    {
     "data": {
      "image/png": "[encoded data removed]",
      "text/plain": [
       "<Figure size 432x288 with 1 Axes>"
      ]
     },
     "metadata": {
      "needs_background": "light"
     },
     "output_type": "display_data"
    }
   ],
   "source": []
  },
  {
   "cell_type": "code",
   "execution_count": null,
   "metadata": {},
   "outputs": [],
   "source": []
  },
  {
   "cell_type": "code",
   "execution_count": null,
   "metadata": {},
   "outputs": [],
   "source": []
  }
 ],
 "metadata": {
  "kernelspec": {
   "display_name": "Python 3",
   "language": "python",
   "name": "python3"
  },
  "language_info": {
   "codemirror_mode": {
    "name": "ipython",
    "version": 3
   },
   "file_extension": ".py",
   "mimetype": "text/x-python",
   "name": "python",
   "nbconvert_exporter": "python",
   "pygments_lexer": "ipython3",
   "version": "3.9.1"
  }
 },
 "nbformat": 4,
 "nbformat_minor": 4
}
