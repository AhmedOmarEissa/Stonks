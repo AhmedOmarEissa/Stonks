{
 "cells": [
  {
   "cell_type": "code",
   "execution_count": 144,
   "metadata": {},
   "outputs": [],
   "source": [
    "import pandas as pd"
   ]
  },
  {
   "cell_type": "code",
   "execution_count": 145,
   "metadata": {},
   "outputs": [],
   "source": [
    "%run Profile.py"
   ]
  },
  {
   "cell_type": "code",
   "execution_count": 146,
   "metadata": {},
   "outputs": [],
   "source": [
    "df = pd.read_csv('stonks.csv')\n",
    "df.to_d = pd.to_datetime(df.to_d,format='%d-%m-%y')\n",
    "df['previous_closing'] = df.groupby('stock').shift(1)['current']"
   ]
  },
  {
   "cell_type": "code",
   "execution_count": 147,
   "metadata": {},
   "outputs": [],
   "source": [
    "pct = lambda num,den : round(num/den - 1,2)"
   ]
  },
  {
   "cell_type": "code",
   "execution_count": 148,
   "metadata": {},
   "outputs": [],
   "source": [
    "df['dailygainpct']= pct(df['current'],df['previous_closing'])"
   ]
  },
  {
   "cell_type": "code",
   "execution_count": 149,
   "metadata": {},
   "outputs": [
    {
     "data": {
      "text/html": [
       "<div>\n",
       "<style scoped>\n",
       "    .dataframe tbody tr th:only-of-type {\n",
       "        vertical-align: middle;\n",
       "    }\n",
       "\n",
       "    .dataframe tbody tr th {\n",
       "        vertical-align: top;\n",
       "    }\n",
       "\n",
       "    .dataframe thead th {\n",
       "        text-align: right;\n",
       "    }\n",
       "</style>\n",
       "<table border=\"1\" class=\"dataframe\">\n",
       "  <thead>\n",
       "    <tr style=\"text-align: right;\">\n",
       "      <th></th>\n",
       "      <th>to_d</th>\n",
       "      <th>stock</th>\n",
       "      <th>current</th>\n",
       "      <th>forecast</th>\n",
       "      <th>buying</th>\n",
       "      <th>quant</th>\n",
       "      <th>g_act_abs</th>\n",
       "      <th>g_act_pct</th>\n",
       "      <th>g_exp_abs</th>\n",
       "      <th>g_exp_pct</th>\n",
       "      <th>previous_closing</th>\n",
       "      <th>dailygainpct</th>\n",
       "    </tr>\n",
       "  </thead>\n",
       "  <tbody>\n",
       "    <tr>\n",
       "      <th>0</th>\n",
       "      <td>2021-01-02</td>\n",
       "      <td>AAPL</td>\n",
       "      <td>132</td>\n",
       "      <td>132</td>\n",
       "      <td>132.12</td>\n",
       "      <td>3</td>\n",
       "      <td>0</td>\n",
       "      <td>-0.00</td>\n",
       "      <td>0</td>\n",
       "      <td>0.00</td>\n",
       "      <td>NaN</td>\n",
       "      <td>NaN</td>\n",
       "    </tr>\n",
       "    <tr>\n",
       "      <th>1</th>\n",
       "      <td>2021-01-02</td>\n",
       "      <td>ADS</td>\n",
       "      <td>74</td>\n",
       "      <td>71</td>\n",
       "      <td>77.23</td>\n",
       "      <td>6</td>\n",
       "      <td>-18</td>\n",
       "      <td>-0.04</td>\n",
       "      <td>-18</td>\n",
       "      <td>-0.04</td>\n",
       "      <td>NaN</td>\n",
       "      <td>NaN</td>\n",
       "    </tr>\n",
       "    <tr>\n",
       "      <th>2</th>\n",
       "      <td>2021-01-02</td>\n",
       "      <td>DBX</td>\n",
       "      <td>22</td>\n",
       "      <td>23</td>\n",
       "      <td>21.48</td>\n",
       "      <td>22</td>\n",
       "      <td>0</td>\n",
       "      <td>0.02</td>\n",
       "      <td>22</td>\n",
       "      <td>0.05</td>\n",
       "      <td>NaN</td>\n",
       "      <td>NaN</td>\n",
       "    </tr>\n",
       "    <tr>\n",
       "      <th>3</th>\n",
       "      <td>2021-01-02</td>\n",
       "      <td>SPWR</td>\n",
       "      <td>25</td>\n",
       "      <td>27</td>\n",
       "      <td>31.78</td>\n",
       "      <td>15</td>\n",
       "      <td>-90</td>\n",
       "      <td>-0.21</td>\n",
       "      <td>30</td>\n",
       "      <td>0.08</td>\n",
       "      <td>NaN</td>\n",
       "      <td>NaN</td>\n",
       "    </tr>\n",
       "    <tr>\n",
       "      <th>4</th>\n",
       "      <td>2021-01-02</td>\n",
       "      <td>NIO</td>\n",
       "      <td>48</td>\n",
       "      <td>47</td>\n",
       "      <td>57.21</td>\n",
       "      <td>15</td>\n",
       "      <td>-135</td>\n",
       "      <td>-0.16</td>\n",
       "      <td>-15</td>\n",
       "      <td>-0.02</td>\n",
       "      <td>NaN</td>\n",
       "      <td>NaN</td>\n",
       "    </tr>\n",
       "  </tbody>\n",
       "</table>\n",
       "</div>"
      ],
      "text/plain": [
       "        to_d stock  current  forecast  buying  quant  g_act_abs  g_act_pct  \\\n",
       "0 2021-01-02  AAPL      132       132  132.12      3          0      -0.00   \n",
       "1 2021-01-02   ADS       74        71   77.23      6        -18      -0.04   \n",
       "2 2021-01-02   DBX       22        23   21.48     22          0       0.02   \n",
       "3 2021-01-02  SPWR       25        27   31.78     15        -90      -0.21   \n",
       "4 2021-01-02   NIO       48        47   57.21     15       -135      -0.16   \n",
       "\n",
       "   g_exp_abs  g_exp_pct  previous_closing  dailygainpct  \n",
       "0          0       0.00               NaN           NaN  \n",
       "1        -18      -0.04               NaN           NaN  \n",
       "2         22       0.05               NaN           NaN  \n",
       "3         30       0.08               NaN           NaN  \n",
       "4        -15      -0.02               NaN           NaN  "
      ]
     },
     "execution_count": 149,
     "metadata": {},
     "output_type": "execute_result"
    }
   ],
   "source": [
    "df.head()"
   ]
  },
  {
   "cell_type": "code",
   "execution_count": 150,
   "metadata": {},
   "outputs": [
    {
     "data": {
      "image/png": "[encoded data removed]",
      "text/plain": [
       "<Figure size 432x288 with 1 Axes>"
      ]
     },
     "metadata": {
      "needs_background": "light"
     },
     "output_type": "display_data"
    }
   ],
   "source": [
    "df[df['to_d'] == df.to_d.max()].sort_values(by = 'g_act_pct').plot.bar(x='stock', y='g_act_pct');"
   ]
  },
  {
   "cell_type": "code",
   "execution_count": 151,
   "metadata": {},
   "outputs": [
    {
     "data": {
      "image/png": "[encoded data removed]",
      "text/plain": [
       "<Figure size 432x288 with 1 Axes>"
      ]
     },
     "metadata": {
      "needs_background": "light"
     },
     "output_type": "display_data"
    }
   ],
   "source": [
    "df[df['to_d'] == df.to_d.max()].sort_values(by = 'g_exp_pct').plot.bar(x='stock', y='g_exp_pct');"
   ]
  },
  {
   "cell_type": "code",
   "execution_count": 152,
   "metadata": {},
   "outputs": [
    {
     "data": {
      "image/png": "[encoded data removed]",
      "text/plain": [
       "<Figure size 432x288 with 1 Axes>"
      ]
     },
     "metadata": {
      "needs_background": "light"
     },
     "output_type": "display_data"
    }
   ],
   "source": [
    "df.groupby('to_d').sum().reset_index().plot.line(x = 'to_d' , y =['g_act_abs']);"
   ]
  },
  {
   "cell_type": "code",
   "execution_count": 153,
   "metadata": {},
   "outputs": [
    {
     "data": {
      "text/html": [
       "<div>\n",
       "<style scoped>\n",
       "    .dataframe tbody tr th:only-of-type {\n",
       "        vertical-align: middle;\n",
       "    }\n",
       "\n",
       "    .dataframe tbody tr th {\n",
       "        vertical-align: top;\n",
       "    }\n",
       "\n",
       "    .dataframe thead th {\n",
       "        text-align: right;\n",
       "    }\n",
       "</style>\n",
       "<table border=\"1\" class=\"dataframe\">\n",
       "  <thead>\n",
       "    <tr style=\"text-align: right;\">\n",
       "      <th></th>\n",
       "      <th>to_d</th>\n",
       "      <th>stock</th>\n",
       "      <th>current</th>\n",
       "      <th>forecast</th>\n",
       "      <th>buying</th>\n",
       "      <th>quant</th>\n",
       "      <th>g_act_abs</th>\n",
       "      <th>g_act_pct</th>\n",
       "      <th>g_exp_abs</th>\n",
       "      <th>g_exp_pct</th>\n",
       "      <th>previous_closing</th>\n",
       "      <th>dailygainpct</th>\n",
       "    </tr>\n",
       "  </thead>\n",
       "  <tbody>\n",
       "    <tr>\n",
       "      <th>598</th>\n",
       "      <td>2021-02-19</td>\n",
       "      <td>AAPL</td>\n",
       "      <td>129</td>\n",
       "      <td>133</td>\n",
       "      <td>155.128</td>\n",
       "      <td>4</td>\n",
       "      <td>-104</td>\n",
       "      <td>-0.17</td>\n",
       "      <td>16</td>\n",
       "      <td>0.03</td>\n",
       "      <td>129.0</td>\n",
       "      <td>0.00</td>\n",
       "    </tr>\n",
       "    <tr>\n",
       "      <th>609</th>\n",
       "      <td>2021-02-19</td>\n",
       "      <td>ABNB</td>\n",
       "      <td>204</td>\n",
       "      <td>206</td>\n",
       "      <td>155.128</td>\n",
       "      <td>16</td>\n",
       "      <td>768</td>\n",
       "      <td>0.32</td>\n",
       "      <td>32</td>\n",
       "      <td>0.01</td>\n",
       "      <td>198.0</td>\n",
       "      <td>0.03</td>\n",
       "    </tr>\n",
       "    <tr>\n",
       "      <th>599</th>\n",
       "      <td>2021-02-19</td>\n",
       "      <td>DBX</td>\n",
       "      <td>23</td>\n",
       "      <td>24</td>\n",
       "      <td>21.490</td>\n",
       "      <td>24</td>\n",
       "      <td>24</td>\n",
       "      <td>0.07</td>\n",
       "      <td>24</td>\n",
       "      <td>0.04</td>\n",
       "      <td>24.0</td>\n",
       "      <td>-0.04</td>\n",
       "    </tr>\n",
       "    <tr>\n",
       "      <th>606</th>\n",
       "      <td>2021-02-19</td>\n",
       "      <td>EB</td>\n",
       "      <td>19</td>\n",
       "      <td>18</td>\n",
       "      <td>18.120</td>\n",
       "      <td>31</td>\n",
       "      <td>0</td>\n",
       "      <td>0.05</td>\n",
       "      <td>-31</td>\n",
       "      <td>-0.05</td>\n",
       "      <td>18.0</td>\n",
       "      <td>0.06</td>\n",
       "    </tr>\n",
       "    <tr>\n",
       "      <th>607</th>\n",
       "      <td>2021-02-19</td>\n",
       "      <td>NET</td>\n",
       "      <td>84</td>\n",
       "      <td>86</td>\n",
       "      <td>84.660</td>\n",
       "      <td>17</td>\n",
       "      <td>0</td>\n",
       "      <td>-0.01</td>\n",
       "      <td>34</td>\n",
       "      <td>0.02</td>\n",
       "      <td>82.0</td>\n",
       "      <td>0.02</td>\n",
       "    </tr>\n",
       "    <tr>\n",
       "      <th>603</th>\n",
       "      <td>2021-02-19</td>\n",
       "      <td>NIO</td>\n",
       "      <td>55</td>\n",
       "      <td>58</td>\n",
       "      <td>57.210</td>\n",
       "      <td>15</td>\n",
       "      <td>-30</td>\n",
       "      <td>-0.04</td>\n",
       "      <td>45</td>\n",
       "      <td>0.05</td>\n",
       "      <td>54.0</td>\n",
       "      <td>0.02</td>\n",
       "    </tr>\n",
       "    <tr>\n",
       "      <th>608</th>\n",
       "      <td>2021-02-19</td>\n",
       "      <td>PINS</td>\n",
       "      <td>87</td>\n",
       "      <td>85</td>\n",
       "      <td>67.480</td>\n",
       "      <td>10</td>\n",
       "      <td>190</td>\n",
       "      <td>0.29</td>\n",
       "      <td>-20</td>\n",
       "      <td>-0.02</td>\n",
       "      <td>85.0</td>\n",
       "      <td>0.02</td>\n",
       "    </tr>\n",
       "    <tr>\n",
       "      <th>601</th>\n",
       "      <td>2021-02-19</td>\n",
       "      <td>PYPL</td>\n",
       "      <td>291</td>\n",
       "      <td>291</td>\n",
       "      <td>238.630</td>\n",
       "      <td>3</td>\n",
       "      <td>156</td>\n",
       "      <td>0.22</td>\n",
       "      <td>0</td>\n",
       "      <td>0.00</td>\n",
       "      <td>290.0</td>\n",
       "      <td>0.00</td>\n",
       "    </tr>\n",
       "    <tr>\n",
       "      <th>605</th>\n",
       "      <td>2021-02-19</td>\n",
       "      <td>RVLV</td>\n",
       "      <td>38</td>\n",
       "      <td>38</td>\n",
       "      <td>29.600</td>\n",
       "      <td>15</td>\n",
       "      <td>120</td>\n",
       "      <td>0.28</td>\n",
       "      <td>0</td>\n",
       "      <td>0.00</td>\n",
       "      <td>36.0</td>\n",
       "      <td>0.06</td>\n",
       "    </tr>\n",
       "    <tr>\n",
       "      <th>604</th>\n",
       "      <td>2021-02-19</td>\n",
       "      <td>SONO</td>\n",
       "      <td>37</td>\n",
       "      <td>35</td>\n",
       "      <td>21.199</td>\n",
       "      <td>25</td>\n",
       "      <td>375</td>\n",
       "      <td>0.75</td>\n",
       "      <td>-50</td>\n",
       "      <td>-0.05</td>\n",
       "      <td>36.0</td>\n",
       "      <td>0.03</td>\n",
       "    </tr>\n",
       "    <tr>\n",
       "      <th>600</th>\n",
       "      <td>2021-02-19</td>\n",
       "      <td>SPWR</td>\n",
       "      <td>37</td>\n",
       "      <td>45</td>\n",
       "      <td>38.812</td>\n",
       "      <td>29</td>\n",
       "      <td>-29</td>\n",
       "      <td>-0.05</td>\n",
       "      <td>232</td>\n",
       "      <td>0.22</td>\n",
       "      <td>36.0</td>\n",
       "      <td>0.03</td>\n",
       "    </tr>\n",
       "    <tr>\n",
       "      <th>602</th>\n",
       "      <td>2021-02-19</td>\n",
       "      <td>SQ</td>\n",
       "      <td>277</td>\n",
       "      <td>268</td>\n",
       "      <td>217.630</td>\n",
       "      <td>2</td>\n",
       "      <td>118</td>\n",
       "      <td>0.27</td>\n",
       "      <td>-18</td>\n",
       "      <td>-0.03</td>\n",
       "      <td>270.0</td>\n",
       "      <td>0.03</td>\n",
       "    </tr>\n",
       "  </tbody>\n",
       "</table>\n",
       "</div>"
      ],
      "text/plain": [
       "          to_d stock  current  forecast   buying  quant  g_act_abs  g_act_pct  \\\n",
       "598 2021-02-19  AAPL      129       133  155.128      4       -104      -0.17   \n",
       "609 2021-02-19  ABNB      204       206  155.128     16        768       0.32   \n",
       "599 2021-02-19   DBX       23        24   21.490     24         24       0.07   \n",
       "606 2021-02-19    EB       19        18   18.120     31          0       0.05   \n",
       "607 2021-02-19   NET       84        86   84.660     17          0      -0.01   \n",
       "603 2021-02-19   NIO       55        58   57.210     15        -30      -0.04   \n",
       "608 2021-02-19  PINS       87        85   67.480     10        190       0.29   \n",
       "601 2021-02-19  PYPL      291       291  238.630      3        156       0.22   \n",
       "605 2021-02-19  RVLV       38        38   29.600     15        120       0.28   \n",
       "604 2021-02-19  SONO       37        35   21.199     25        375       0.75   \n",
       "600 2021-02-19  SPWR       37        45   38.812     29        -29      -0.05   \n",
       "602 2021-02-19    SQ      277       268  217.630      2        118       0.27   \n",
       "\n",
       "     g_exp_abs  g_exp_pct  previous_closing  dailygainpct  \n",
       "598         16       0.03             129.0          0.00  \n",
       "609         32       0.01             198.0          0.03  \n",
       "599         24       0.04              24.0         -0.04  \n",
       "606        -31      -0.05              18.0          0.06  \n",
       "607         34       0.02              82.0          0.02  \n",
       "603         45       0.05              54.0          0.02  \n",
       "608        -20      -0.02              85.0          0.02  \n",
       "601          0       0.00             290.0          0.00  \n",
       "605          0       0.00              36.0          0.06  \n",
       "604        -50      -0.05              36.0          0.03  \n",
       "600        232       0.22              36.0          0.03  \n",
       "602        -18      -0.03             270.0          0.03  "
      ]
     },
     "execution_count": 153,
     "metadata": {},
     "output_type": "execute_result"
    }
   ],
   "source": [
    "df[df['to_d'] == df.to_d.max()].sort_values(by='stock')"
   ]
  },
  {
   "cell_type": "code",
   "execution_count": 112,
   "metadata": {},
   "outputs": [
    {
     "data": {
      "image/png": "[encoded data removed]",
      "text/plain": [
       "<Figure size 432x288 with 1 Axes>"
      ]
     },
     "metadata": {
      "needs_background": "light"
     },
     "output_type": "display_data"
    }
   ],
   "source": [
    "(df[df['stock']=='AAPL']\n",
    " .plot(x = 'to_d' , y =['buying','forecast'])\n",
    ");"
   ]
  },
  {
   "cell_type": "code",
   "execution_count": 113,
   "metadata": {},
   "outputs": [],
   "source": [
    "dfII = df[df['dailygainpct']!=0]"
   ]
  },
  {
   "cell_type": "code",
   "execution_count": 114,
   "metadata": {},
   "outputs": [
    {
     "data": {
      "text/plain": [
       "<AxesSubplot:xlabel='to_d'>"
      ]
     },
     "execution_count": 114,
     "metadata": {},
     "output_type": "execute_result"
    },
    {
     "data": {
      "image/png": "[encoded data removed]",
      "text/plain": [
       "<Figure size 432x288 with 1 Axes>"
      ]
     },
     "metadata": {
      "needs_background": "light"
     },
     "output_type": "display_data"
    }
   ],
   "source": [
    "dfII[dfII['stock']=='SPWR'].plot.bar(x ='to_d' , y = ['g_exp_pct','dailygainpct'] )"
   ]
  },
  {
   "cell_type": "code",
   "execution_count": 115,
   "metadata": {},
   "outputs": [
    {
     "data": {
      "image/png": "[encoded data removed]",
      "text/plain": [
       "<Figure size 432x288 with 1 Axes>"
      ]
     },
     "metadata": {
      "needs_background": "light"
     },
     "output_type": "display_data"
    }
   ],
   "source": [
    "(dfII.plot.scatter(x = 'dailygainpct' , y ='g_exp_pct'));"
   ]
  },
  {
   "cell_type": "code",
   "execution_count": 116,
   "metadata": {},
   "outputs": [],
   "source": [
    "increase_increase = int(100*dfII[(dfII['dailygainpct'] >0)& (dfII['g_exp_pct'] >0)].shape[0] / dfII.shape[0])\n",
    "decrease_decrease = int(100*dfII[(dfII['dailygainpct'] < 0)& (dfII['g_exp_pct'] < 0)].shape[0]/ dfII.shape[0])\n",
    "increase_decrease = int(100*dfII[(dfII['dailygainpct'] >0)& (dfII['g_exp_pct'] <0)].shape[0] / dfII.shape[0])\n",
    "decrease_increase = int(100*dfII[(dfII['dailygainpct'] <0)& (dfII['g_exp_pct'] >0)].shape[0] / dfII.shape[0])\n"
   ]
  },
  {
   "cell_type": "code",
   "execution_count": 117,
   "metadata": {},
   "outputs": [
    {
     "name": "stdout",
     "output_type": "stream",
     "text": [
      "A I - D\n",
      "F\n",
      "I 6 - 23\n",
      "D 42 - 11\n"
     ]
    }
   ],
   "source": [
    "print('A','I','-' ,'D')\n",
    "print('F')\n",
    "print('I',increase_increase,'-' ,decrease_increase)\n",
    "print('D',increase_decrease,'-' ,decrease_decrease)\n"
   ]
  },
  {
   "cell_type": "code",
   "execution_count": 118,
   "metadata": {},
   "outputs": [
    {
     "data": {
      "image/png": "[encoded data removed]",
      "text/plain": [
       "<Figure size 432x288 with 1 Axes>"
      ]
     },
     "metadata": {
      "needs_background": "light"
     },
     "output_type": "display_data"
    }
   ],
   "source": [
    "(dfII.plot.scatter(x = 'current' , y ='forecast'));"
   ]
  },
  {
   "cell_type": "code",
   "execution_count": 119,
   "metadata": {},
   "outputs": [
    {
     "data": {
      "image/png": "[encoded data removed]",
      "text/plain": [
       "<Figure size 432x288 with 1 Axes>"
      ]
     },
     "metadata": {
      "needs_background": "light"
     },
     "output_type": "display_data"
    }
   ],
   "source": [
    "(dfII[['stock','dailygainpct']].boxplot(by = 'stock' ));"
   ]
  },
  {
   "cell_type": "code",
   "execution_count": 120,
   "metadata": {},
   "outputs": [
    {
     "data": {
      "text/plain": [
       "<AxesSubplot:>"
      ]
     },
     "execution_count": 120,
     "metadata": {},
     "output_type": "execute_result"
    },
    {
     "data": {
      "image/png": "[encoded data removed]",
      "text/plain": [
       "<Figure size 432x288 with 1 Axes>"
      ]
     },
     "metadata": {
      "needs_background": "light"
     },
     "output_type": "display_data"
    }
   ],
   "source": [
    "dfII['dailygainpct'].hist(bins=100)"
   ]
  },
  {
   "cell_type": "code",
   "execution_count": 121,
   "metadata": {},
   "outputs": [
    {
     "data": {
      "text/plain": [
       "count    289.000000\n",
       "mean       0.011557\n",
       "std        0.048477\n",
       "min       -0.110000\n",
       "25%       -0.030000\n",
       "50%        0.020000\n",
       "75%        0.040000\n",
       "max        0.210000\n",
       "Name: dailygainpct, dtype: float64"
      ]
     },
     "execution_count": 121,
     "metadata": {},
     "output_type": "execute_result"
    }
   ],
   "source": [
    "dfII['dailygainpct'].describe()"
   ]
  },
  {
   "cell_type": "code",
   "execution_count": null,
   "metadata": {},
   "outputs": [],
   "source": []
  },
  {
   "cell_type": "code",
   "execution_count": null,
   "metadata": {},
   "outputs": [],
   "source": []
  },
  {
   "cell_type": "code",
   "execution_count": null,
   "metadata": {},
   "outputs": [],
   "source": []
  }
 ],
 "metadata": {
  "kernelspec": {
   "display_name": "Python 3",
   "language": "python",
   "name": "python3"
  },
  "language_info": {
   "codemirror_mode": {
    "name": "ipython",
    "version": 3
   },
   "file_extension": ".py",
   "mimetype": "text/x-python",
   "name": "python",
   "nbconvert_exporter": "python",
   "pygments_lexer": "ipython3",
   "version": "3.9.1"
  }
 },
 "nbformat": 4,
 "nbformat_minor": 4
}
