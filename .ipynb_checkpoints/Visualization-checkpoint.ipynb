{
 "cells": [
  {
   "cell_type": "code",
   "execution_count": 1,
   "metadata": {},
   "outputs": [],
   "source": [
    "import pandas as pd"
   ]
  },
  {
   "cell_type": "code",
   "execution_count": 2,
   "metadata": {},
   "outputs": [
    {
     "name": "stderr",
     "output_type": "stream",
     "text": [
      "/usr/local/lib/python3.9/site-packages/requests/__init__.py:89: RequestsDependencyWarning: urllib3 (1.26.3) or chardet (3.0.4) doesn't match a supported version!\n",
      "  warnings.warn(\"urllib3 ({}) or chardet ({}) doesn't match a supported \"\n"
     ]
    }
   ],
   "source": [
    "%run Profile.py"
   ]
  },
  {
   "cell_type": "code",
   "execution_count": 3,
   "metadata": {},
   "outputs": [],
   "source": [
    "df = pd.read_csv('stonks.csv')\n",
    "df.to_d = pd.to_datetime(df.to_d,format='%d-%m-%y')\n",
    "df['previous_closing'] = df.groupby('stock').shift(1)['current']"
   ]
  },
  {
   "cell_type": "code",
   "execution_count": 4,
   "metadata": {},
   "outputs": [],
   "source": [
    "pct = lambda num,den : round(num/den - 1,2)"
   ]
  },
  {
   "cell_type": "code",
   "execution_count": 5,
   "metadata": {},
   "outputs": [],
   "source": [
    "df['dailygainpct']= pct(df['current'],df['previous_closing'])"
   ]
  },
  {
   "cell_type": "code",
   "execution_count": 6,
   "metadata": {},
   "outputs": [
    {
     "data": {
      "text/html": [
       "<div>\n",
       "<style scoped>\n",
       "    .dataframe tbody tr th:only-of-type {\n",
       "        vertical-align: middle;\n",
       "    }\n",
       "\n",
       "    .dataframe tbody tr th {\n",
       "        vertical-align: top;\n",
       "    }\n",
       "\n",
       "    .dataframe thead th {\n",
       "        text-align: right;\n",
       "    }\n",
       "</style>\n",
       "<table border=\"1\" class=\"dataframe\">\n",
       "  <thead>\n",
       "    <tr style=\"text-align: right;\">\n",
       "      <th></th>\n",
       "      <th>to_d</th>\n",
       "      <th>stock</th>\n",
       "      <th>current</th>\n",
       "      <th>forecast</th>\n",
       "      <th>buying</th>\n",
       "      <th>quant</th>\n",
       "      <th>g_act_abs</th>\n",
       "      <th>g_act_pct</th>\n",
       "      <th>g_exp_abs</th>\n",
       "      <th>g_exp_pct</th>\n",
       "      <th>previous_closing</th>\n",
       "      <th>dailygainpct</th>\n",
       "    </tr>\n",
       "  </thead>\n",
       "  <tbody>\n",
       "    <tr>\n",
       "      <th>0</th>\n",
       "      <td>2021-01-02</td>\n",
       "      <td>AAPL</td>\n",
       "      <td>132</td>\n",
       "      <td>132</td>\n",
       "      <td>132.12</td>\n",
       "      <td>3</td>\n",
       "      <td>0</td>\n",
       "      <td>-0.00</td>\n",
       "      <td>0</td>\n",
       "      <td>0.00</td>\n",
       "      <td>NaN</td>\n",
       "      <td>NaN</td>\n",
       "    </tr>\n",
       "    <tr>\n",
       "      <th>1</th>\n",
       "      <td>2021-01-02</td>\n",
       "      <td>ADS</td>\n",
       "      <td>74</td>\n",
       "      <td>71</td>\n",
       "      <td>77.23</td>\n",
       "      <td>6</td>\n",
       "      <td>-18</td>\n",
       "      <td>-0.04</td>\n",
       "      <td>-18</td>\n",
       "      <td>-0.04</td>\n",
       "      <td>NaN</td>\n",
       "      <td>NaN</td>\n",
       "    </tr>\n",
       "    <tr>\n",
       "      <th>2</th>\n",
       "      <td>2021-01-02</td>\n",
       "      <td>DBX</td>\n",
       "      <td>22</td>\n",
       "      <td>23</td>\n",
       "      <td>21.48</td>\n",
       "      <td>22</td>\n",
       "      <td>0</td>\n",
       "      <td>0.02</td>\n",
       "      <td>22</td>\n",
       "      <td>0.05</td>\n",
       "      <td>NaN</td>\n",
       "      <td>NaN</td>\n",
       "    </tr>\n",
       "    <tr>\n",
       "      <th>3</th>\n",
       "      <td>2021-01-02</td>\n",
       "      <td>SPWR</td>\n",
       "      <td>25</td>\n",
       "      <td>27</td>\n",
       "      <td>31.78</td>\n",
       "      <td>15</td>\n",
       "      <td>-90</td>\n",
       "      <td>-0.21</td>\n",
       "      <td>30</td>\n",
       "      <td>0.08</td>\n",
       "      <td>NaN</td>\n",
       "      <td>NaN</td>\n",
       "    </tr>\n",
       "    <tr>\n",
       "      <th>4</th>\n",
       "      <td>2021-01-02</td>\n",
       "      <td>NIO</td>\n",
       "      <td>48</td>\n",
       "      <td>47</td>\n",
       "      <td>57.21</td>\n",
       "      <td>15</td>\n",
       "      <td>-135</td>\n",
       "      <td>-0.16</td>\n",
       "      <td>-15</td>\n",
       "      <td>-0.02</td>\n",
       "      <td>NaN</td>\n",
       "      <td>NaN</td>\n",
       "    </tr>\n",
       "  </tbody>\n",
       "</table>\n",
       "</div>"
      ],
      "text/plain": [
       "        to_d stock  current  forecast  buying  quant  g_act_abs  g_act_pct  \\\n",
       "0 2021-01-02  AAPL      132       132  132.12      3          0      -0.00   \n",
       "1 2021-01-02   ADS       74        71   77.23      6        -18      -0.04   \n",
       "2 2021-01-02   DBX       22        23   21.48     22          0       0.02   \n",
       "3 2021-01-02  SPWR       25        27   31.78     15        -90      -0.21   \n",
       "4 2021-01-02   NIO       48        47   57.21     15       -135      -0.16   \n",
       "\n",
       "   g_exp_abs  g_exp_pct  previous_closing  dailygainpct  \n",
       "0          0       0.00               NaN           NaN  \n",
       "1        -18      -0.04               NaN           NaN  \n",
       "2         22       0.05               NaN           NaN  \n",
       "3         30       0.08               NaN           NaN  \n",
       "4        -15      -0.02               NaN           NaN  "
      ]
     },
     "execution_count": 6,
     "metadata": {},
     "output_type": "execute_result"
    }
   ],
   "source": [
    "df.head()"
   ]
  },
  {
   "cell_type": "code",
   "execution_count": 7,
   "metadata": {},
   "outputs": [
    {
     "data": {
      "image/png": "[encoded data removed]",
      "text/plain": [
       "<Figure size 432x288 with 1 Axes>"
      ]
     },
     "metadata": {
      "needs_background": "light"
     },
     "output_type": "display_data"
    }
   ],
   "source": [
    "df[df['to_d'] == df.to_d.max()].sort_values(by = 'g_act_pct').plot.bar(x='stock', y='g_act_pct');"
   ]
  },
  {
   "cell_type": "code",
   "execution_count": 8,
   "metadata": {},
   "outputs": [
    {
     "data": {
      "image/png": "[encoded data removed]",
      "text/plain": [
       "<Figure size 432x288 with 1 Axes>"
      ]
     },
     "metadata": {
      "needs_background": "light"
     },
     "output_type": "display_data"
    }
   ],
   "source": [
    "df[df['to_d'] == df.to_d.max()].sort_values(by = 'g_exp_pct').plot.bar(x='stock', y='g_exp_pct');\n"
   ]
  },
  {
   "cell_type": "code",
   "execution_count": 9,
   "metadata": {},
   "outputs": [
    {
     "data": {
      "image/png": "[encoded data removed]",
      "text/plain": [
       "<Figure size 432x288 with 1 Axes>"
      ]
     },
     "metadata": {
      "needs_background": "light"
     },
     "output_type": "display_data"
    }
   ],
   "source": [
    "df.groupby('to_d').sum().reset_index().plot.line(x = 'to_d' , y =['g_act_abs']);"
   ]
  },
  {
   "cell_type": "code",
   "execution_count": 10,
   "metadata": {},
   "outputs": [
    {
     "data": {
      "text/html": [
       "<div>\n",
       "<style scoped>\n",
       "    .dataframe tbody tr th:only-of-type {\n",
       "        vertical-align: middle;\n",
       "    }\n",
       "\n",
       "    .dataframe tbody tr th {\n",
       "        vertical-align: top;\n",
       "    }\n",
       "\n",
       "    .dataframe thead th {\n",
       "        text-align: right;\n",
       "    }\n",
       "</style>\n",
       "<table border=\"1\" class=\"dataframe\">\n",
       "  <thead>\n",
       "    <tr style=\"text-align: right;\">\n",
       "      <th></th>\n",
       "      <th>to_d</th>\n",
       "      <th>stock</th>\n",
       "      <th>current</th>\n",
       "      <th>forecast</th>\n",
       "      <th>buying</th>\n",
       "      <th>quant</th>\n",
       "      <th>g_act_abs</th>\n",
       "      <th>g_act_pct</th>\n",
       "      <th>g_exp_abs</th>\n",
       "      <th>g_exp_pct</th>\n",
       "      <th>previous_closing</th>\n",
       "      <th>dailygainpct</th>\n",
       "    </tr>\n",
       "  </thead>\n",
       "  <tbody>\n",
       "    <tr>\n",
       "      <th>622</th>\n",
       "      <td>2021-02-21</td>\n",
       "      <td>AAPL</td>\n",
       "      <td>129</td>\n",
       "      <td>132</td>\n",
       "      <td>155.128</td>\n",
       "      <td>4</td>\n",
       "      <td>-104</td>\n",
       "      <td>-0.17</td>\n",
       "      <td>12</td>\n",
       "      <td>0.02</td>\n",
       "      <td>129.0</td>\n",
       "      <td>0.0</td>\n",
       "    </tr>\n",
       "    <tr>\n",
       "      <th>633</th>\n",
       "      <td>2021-02-21</td>\n",
       "      <td>ABNB</td>\n",
       "      <td>201</td>\n",
       "      <td>206</td>\n",
       "      <td>155.128</td>\n",
       "      <td>16</td>\n",
       "      <td>720</td>\n",
       "      <td>0.30</td>\n",
       "      <td>80</td>\n",
       "      <td>0.02</td>\n",
       "      <td>201.0</td>\n",
       "      <td>0.0</td>\n",
       "    </tr>\n",
       "    <tr>\n",
       "      <th>623</th>\n",
       "      <td>2021-02-21</td>\n",
       "      <td>DBX</td>\n",
       "      <td>23</td>\n",
       "      <td>24</td>\n",
       "      <td>21.490</td>\n",
       "      <td>24</td>\n",
       "      <td>24</td>\n",
       "      <td>0.07</td>\n",
       "      <td>24</td>\n",
       "      <td>0.04</td>\n",
       "      <td>23.0</td>\n",
       "      <td>0.0</td>\n",
       "    </tr>\n",
       "    <tr>\n",
       "      <th>630</th>\n",
       "      <td>2021-02-21</td>\n",
       "      <td>EB</td>\n",
       "      <td>19</td>\n",
       "      <td>18</td>\n",
       "      <td>18.120</td>\n",
       "      <td>31</td>\n",
       "      <td>0</td>\n",
       "      <td>0.05</td>\n",
       "      <td>-31</td>\n",
       "      <td>-0.05</td>\n",
       "      <td>19.0</td>\n",
       "      <td>0.0</td>\n",
       "    </tr>\n",
       "    <tr>\n",
       "      <th>631</th>\n",
       "      <td>2021-02-21</td>\n",
       "      <td>NET</td>\n",
       "      <td>82</td>\n",
       "      <td>84</td>\n",
       "      <td>84.660</td>\n",
       "      <td>17</td>\n",
       "      <td>-34</td>\n",
       "      <td>-0.03</td>\n",
       "      <td>34</td>\n",
       "      <td>0.02</td>\n",
       "      <td>82.0</td>\n",
       "      <td>0.0</td>\n",
       "    </tr>\n",
       "    <tr>\n",
       "      <th>627</th>\n",
       "      <td>2021-02-21</td>\n",
       "      <td>NIO</td>\n",
       "      <td>55</td>\n",
       "      <td>57</td>\n",
       "      <td>57.210</td>\n",
       "      <td>15</td>\n",
       "      <td>-30</td>\n",
       "      <td>-0.04</td>\n",
       "      <td>30</td>\n",
       "      <td>0.04</td>\n",
       "      <td>55.0</td>\n",
       "      <td>0.0</td>\n",
       "    </tr>\n",
       "    <tr>\n",
       "      <th>632</th>\n",
       "      <td>2021-02-21</td>\n",
       "      <td>PINS</td>\n",
       "      <td>85</td>\n",
       "      <td>86</td>\n",
       "      <td>67.480</td>\n",
       "      <td>10</td>\n",
       "      <td>170</td>\n",
       "      <td>0.26</td>\n",
       "      <td>10</td>\n",
       "      <td>0.01</td>\n",
       "      <td>85.0</td>\n",
       "      <td>0.0</td>\n",
       "    </tr>\n",
       "    <tr>\n",
       "      <th>625</th>\n",
       "      <td>2021-02-21</td>\n",
       "      <td>PYPL</td>\n",
       "      <td>286</td>\n",
       "      <td>293</td>\n",
       "      <td>238.630</td>\n",
       "      <td>3</td>\n",
       "      <td>141</td>\n",
       "      <td>0.20</td>\n",
       "      <td>21</td>\n",
       "      <td>0.02</td>\n",
       "      <td>286.0</td>\n",
       "      <td>0.0</td>\n",
       "    </tr>\n",
       "    <tr>\n",
       "      <th>629</th>\n",
       "      <td>2021-02-21</td>\n",
       "      <td>RVLV</td>\n",
       "      <td>37</td>\n",
       "      <td>37</td>\n",
       "      <td>29.600</td>\n",
       "      <td>15</td>\n",
       "      <td>105</td>\n",
       "      <td>0.25</td>\n",
       "      <td>0</td>\n",
       "      <td>0.00</td>\n",
       "      <td>37.0</td>\n",
       "      <td>0.0</td>\n",
       "    </tr>\n",
       "    <tr>\n",
       "      <th>628</th>\n",
       "      <td>2021-02-21</td>\n",
       "      <td>SONO</td>\n",
       "      <td>36</td>\n",
       "      <td>36</td>\n",
       "      <td>21.199</td>\n",
       "      <td>25</td>\n",
       "      <td>350</td>\n",
       "      <td>0.70</td>\n",
       "      <td>0</td>\n",
       "      <td>0.00</td>\n",
       "      <td>36.0</td>\n",
       "      <td>0.0</td>\n",
       "    </tr>\n",
       "    <tr>\n",
       "      <th>624</th>\n",
       "      <td>2021-02-21</td>\n",
       "      <td>SPWR</td>\n",
       "      <td>37</td>\n",
       "      <td>44</td>\n",
       "      <td>38.812</td>\n",
       "      <td>29</td>\n",
       "      <td>-29</td>\n",
       "      <td>-0.05</td>\n",
       "      <td>203</td>\n",
       "      <td>0.19</td>\n",
       "      <td>37.0</td>\n",
       "      <td>0.0</td>\n",
       "    </tr>\n",
       "    <tr>\n",
       "      <th>626</th>\n",
       "      <td>2021-02-21</td>\n",
       "      <td>SQ</td>\n",
       "      <td>276</td>\n",
       "      <td>272</td>\n",
       "      <td>217.630</td>\n",
       "      <td>2</td>\n",
       "      <td>116</td>\n",
       "      <td>0.27</td>\n",
       "      <td>-8</td>\n",
       "      <td>-0.01</td>\n",
       "      <td>276.0</td>\n",
       "      <td>0.0</td>\n",
       "    </tr>\n",
       "  </tbody>\n",
       "</table>\n",
       "</div>"
      ],
      "text/plain": [
       "          to_d stock  current  forecast   buying  quant  g_act_abs  g_act_pct  \\\n",
       "622 2021-02-21  AAPL      129       132  155.128      4       -104      -0.17   \n",
       "633 2021-02-21  ABNB      201       206  155.128     16        720       0.30   \n",
       "623 2021-02-21   DBX       23        24   21.490     24         24       0.07   \n",
       "630 2021-02-21    EB       19        18   18.120     31          0       0.05   \n",
       "631 2021-02-21   NET       82        84   84.660     17        -34      -0.03   \n",
       "627 2021-02-21   NIO       55        57   57.210     15        -30      -0.04   \n",
       "632 2021-02-21  PINS       85        86   67.480     10        170       0.26   \n",
       "625 2021-02-21  PYPL      286       293  238.630      3        141       0.20   \n",
       "629 2021-02-21  RVLV       37        37   29.600     15        105       0.25   \n",
       "628 2021-02-21  SONO       36        36   21.199     25        350       0.70   \n",
       "624 2021-02-21  SPWR       37        44   38.812     29        -29      -0.05   \n",
       "626 2021-02-21    SQ      276       272  217.630      2        116       0.27   \n",
       "\n",
       "     g_exp_abs  g_exp_pct  previous_closing  dailygainpct  \n",
       "622         12       0.02             129.0           0.0  \n",
       "633         80       0.02             201.0           0.0  \n",
       "623         24       0.04              23.0           0.0  \n",
       "630        -31      -0.05              19.0           0.0  \n",
       "631         34       0.02              82.0           0.0  \n",
       "627         30       0.04              55.0           0.0  \n",
       "632         10       0.01              85.0           0.0  \n",
       "625         21       0.02             286.0           0.0  \n",
       "629          0       0.00              37.0           0.0  \n",
       "628          0       0.00              36.0           0.0  \n",
       "624        203       0.19              37.0           0.0  \n",
       "626         -8      -0.01             276.0           0.0  "
      ]
     },
     "execution_count": 10,
     "metadata": {},
     "output_type": "execute_result"
    }
   ],
   "source": [
    "df[df['to_d'] == df.to_d.max()].sort_values(by='stock')"
   ]
  },
  {
   "cell_type": "code",
   "execution_count": 11,
   "metadata": {},
   "outputs": [
    {
     "data": {
      "image/png": "[encoded data removed]",
      "text/plain": [
       "<Figure size 432x288 with 1 Axes>"
      ]
     },
     "metadata": {
      "needs_background": "light"
     },
     "output_type": "display_data"
    }
   ],
   "source": [
    "(df[df['stock']=='AAPL']\n",
    " .plot(x = 'to_d' , y =['buying','forecast'])\n",
    ");"
   ]
  },
  {
   "cell_type": "code",
   "execution_count": 12,
   "metadata": {},
   "outputs": [],
   "source": [
    "dfII = df[df['dailygainpct']!=0]"
   ]
  },
  {
   "cell_type": "code",
   "execution_count": 13,
   "metadata": {},
   "outputs": [
    {
     "data": {
      "text/plain": [
       "<AxesSubplot:xlabel='to_d'>"
      ]
     },
     "execution_count": 13,
     "metadata": {},
     "output_type": "execute_result"
    },
    {
     "data": {
      "image/png": "[encoded data removed]",
      "text/plain": [
       "<Figure size 432x288 with 1 Axes>"
      ]
     },
     "metadata": {
      "needs_background": "light"
     },
     "output_type": "display_data"
    }
   ],
   "source": [
    "dfII[dfII['stock']=='SPWR'].plot.bar(x ='to_d' , y = ['g_exp_pct','dailygainpct'] )"
   ]
  },
  {
   "cell_type": "code",
   "execution_count": 14,
   "metadata": {},
   "outputs": [
    {
     "data": {
      "image/png": "[encoded data removed]",
      "text/plain": [
       "<Figure size 432x288 with 1 Axes>"
      ]
     },
     "metadata": {
      "needs_background": "light"
     },
     "output_type": "display_data"
    }
   ],
   "source": [
    "(dfII.plot.scatter(x = 'dailygainpct' , y ='g_exp_pct'));"
   ]
  },
  {
   "cell_type": "code",
   "execution_count": 15,
   "metadata": {},
   "outputs": [],
   "source": [
    "increase_increase = int(100*dfII[(dfII['dailygainpct'] >0)& (dfII['g_exp_pct'] >0)].shape[0] / dfII.shape[0])\n",
    "decrease_decrease = int(100*dfII[(dfII['dailygainpct'] < 0)& (dfII['g_exp_pct'] < 0)].shape[0]/ dfII.shape[0])\n",
    "increase_decrease = int(100*dfII[(dfII['dailygainpct'] >0)& (dfII['g_exp_pct'] <0)].shape[0] / dfII.shape[0])\n",
    "decrease_increase = int(100*dfII[(dfII['dailygainpct'] <0)& (dfII['g_exp_pct'] >0)].shape[0] / dfII.shape[0])\n"
   ]
  },
  {
   "cell_type": "code",
   "execution_count": 16,
   "metadata": {},
   "outputs": [
    {
     "name": "stdout",
     "output_type": "stream",
     "text": [
      "A I - D\n",
      "F\n",
      "I 7 - 23\n",
      "D 41 - 11\n"
     ]
    }
   ],
   "source": [
    "print('A','I','-' ,'D')\n",
    "print('F')\n",
    "print('I',increase_increase,'-' ,decrease_increase)\n",
    "print('D',increase_decrease,'-' ,decrease_decrease)\n"
   ]
  },
  {
   "cell_type": "code",
   "execution_count": 17,
   "metadata": {},
   "outputs": [
    {
     "data": {
      "image/png": "[encoded data removed]",
      "text/plain": [
       "<Figure size 432x288 with 1 Axes>"
      ]
     },
     "metadata": {
      "needs_background": "light"
     },
     "output_type": "display_data"
    }
   ],
   "source": [
    "(dfII.plot.scatter(x = 'current' , y ='forecast'));"
   ]
  },
  {
   "cell_type": "code",
   "execution_count": 18,
   "metadata": {},
   "outputs": [
    {
     "data": {
      "image/png": "[encoded data removed]",
      "text/plain": [
       "<Figure size 432x288 with 1 Axes>"
      ]
     },
     "metadata": {
      "needs_background": "light"
     },
     "output_type": "display_data"
    }
   ],
   "source": [
    "(dfII[['stock','dailygainpct']].boxplot(by = 'stock' ));"
   ]
  },
  {
   "cell_type": "code",
   "execution_count": 19,
   "metadata": {},
   "outputs": [
    {
     "data": {
      "text/plain": [
       "<AxesSubplot:>"
      ]
     },
     "execution_count": 19,
     "metadata": {},
     "output_type": "execute_result"
    },
    {
     "data": {
      "image/png": "[encoded data removed]",
      "text/plain": [
       "<Figure size 432x288 with 1 Axes>"
      ]
     },
     "metadata": {
      "needs_background": "light"
     },
     "output_type": "display_data"
    }
   ],
   "source": [
    "dfII['dailygainpct'].hist(bins=100)"
   ]
  },
  {
   "cell_type": "code",
   "execution_count": 20,
   "metadata": {},
   "outputs": [
    {
     "data": {
      "text/plain": [
       "count    302.000000\n",
       "mean       0.011457\n",
       "std        0.048175\n",
       "min       -0.160000\n",
       "25%       -0.020000\n",
       "50%        0.020000\n",
       "75%        0.040000\n",
       "max        0.210000\n",
       "Name: dailygainpct, dtype: float64"
      ]
     },
     "execution_count": 20,
     "metadata": {},
     "output_type": "execute_result"
    }
   ],
   "source": [
    "dfII['dailygainpct'].describe()"
   ]
  },
  {
   "cell_type": "code",
   "execution_count": null,
   "metadata": {},
   "outputs": [],
   "source": []
  },
  {
   "cell_type": "code",
   "execution_count": null,
   "metadata": {},
   "outputs": [],
   "source": []
  },
  {
   "cell_type": "code",
   "execution_count": null,
   "metadata": {},
   "outputs": [],
   "source": []
  }
 ],
 "metadata": {
  "kernelspec": {
   "display_name": "Python 3",
   "language": "python",
   "name": "python3"
  },
  "language_info": {
   "codemirror_mode": {
    "name": "ipython",
    "version": 3
   },
   "file_extension": ".py",
   "mimetype": "text/x-python",
   "name": "python",
   "nbconvert_exporter": "python",
   "pygments_lexer": "ipython3",
   "version": "3.9.1"
  }
 },
 "nbformat": 4,
 "nbformat_minor": 4
}
